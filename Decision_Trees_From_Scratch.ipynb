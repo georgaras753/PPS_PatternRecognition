{
  "nbformat": 4,
  "nbformat_minor": 0,
  "metadata": {
    "colab": {
      "name": "Decision_Trees_From_Scratch.ipynb",
      "provenance": [],
      "authorship_tag": "ABX9TyP0yiAJwZH37S7bsz6cmyxo",
      "include_colab_link": true
    },
    "kernelspec": {
      "name": "python3",
      "display_name": "Python 3"
    }
  },
  "cells": [
    {
      "cell_type": "markdown",
      "metadata": {
        "id": "view-in-github",
        "colab_type": "text"
      },
      "source": [
        "<a href=\"https://colab.research.google.com/github/kmouts/PPS_PatternRecognition/blob/main/Decision_Trees_From_Scratch.ipynb\" target=\"_parent\"><img src=\"https://colab.research.google.com/assets/colab-badge.svg\" alt=\"Open In Colab\"/></a>"
      ]
    },
    {
      "cell_type": "code",
      "metadata": {
        "id": "tMuF-JvRqiQP"
      },
      "source": [
        ""
      ],
      "execution_count": null,
      "outputs": []
    },
    {
      "cell_type": "markdown",
      "metadata": {
        "id": "_kDhsyOfrqRl"
      },
      "source": [
        "Tα δέντρα απόφασης είναι μια ισχυρή μέθοδος πρόβλεψης και εξαιρετικά δημοφιλή.\n",
        "\n",
        "Είναι δημοφιλείς επειδή το τελικό μοντέλο είναι πολύ εύκολο να γίνει κατανοητό σε όλους. Το τελικό δέντρο εξηγεί ακριβώς γιατί έγινε μια συγκεκριμένη πρόβλεψη, καθιστώντας το πολύ ελκυστικό για επιχειρησιακή χρήση.\n",
        "\n",
        "Τα δέντρα αποφάσεων παρέχουν επίσης τα θεμέλια για πιο προηγμένες μεθόδους συνόλων όπως τσαντάκια, τυχαία δάση και ενίσχυση της κλίσης.\n",
        "\n",
        "Σε αυτό το εργαστήριο, θα εφαρμόσουτμε τον αλγόριθμο Classification And Regression Tree (CART) από τo μηδέν με Python (χωρίς έτοιμες βιβλιοθήκες).\n",
        "\n",
        "Αφού ολοκληρώσετε αυτό το εργαστήριο, θα γνωρίζετε:\n",
        "\n",
        "*   Πώς να υπολογίσετε και να αξιολογήσετε κόμβους προς διάσπαση(split) στα δεδομένα.\n",
        "*   Πώς να τακτοποιήσετε τις διασπάσεις σε μια δομή δέντρων αποφάσεων\n",
        "*   Πώς να εφαρμόσετε τον αλγόριθμο CART σε ένα πραγματικό πρόβλημα."
      ]
    }
  ]
}